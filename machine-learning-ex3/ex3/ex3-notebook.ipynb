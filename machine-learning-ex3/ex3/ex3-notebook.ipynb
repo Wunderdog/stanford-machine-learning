{
 "cells": [
  {
   "cell_type": "markdown",
   "metadata": {},
   "source": [
    "# Programming Exercise 3:\n",
    "## Multi-class Classification & Neural Networks"
   ]
  },
  {
   "cell_type": "code",
   "execution_count": 1,
   "metadata": {},
   "outputs": [
    {
     "name": "stdout",
     "output_type": "stream",
     "text": [
      "ans = /Users/Evan/Documents/Fall_2018/Machine Learning - Coursera - Stanford/Week 4/Assignment 3/machine-learning-ex3/ex3\n",
      "Untitled.ipynb\t\tex3weights.mat\t\toneVsAll.m\n",
      "displayData.m\t\tfmincg.m\t\tpredict.m\n",
      "ex3.m\t\t\tlib\t\t\tpredictOneVsAll.m\n",
      "ex3_nn.m\t\tlrCostFunction.m\tsigmoid.m\n",
      "ex3data1.mat\t\toctave-workspace\tsubmit.m\n"
     ]
    }
   ],
   "source": [
    "% /Users/Evan/Documents/Fall_2018/Machine Learning - Coursera - Stanford/Week 4/Assignment 3/machine-learning-ex3/ex3\n",
    "pwd\n",
    "ls"
   ]
  },
  {
   "cell_type": "markdown",
   "metadata": {},
   "source": [
    "## Part 1: One vs All"
   ]
  },
  {
   "cell_type": "code",
   "execution_count": 2,
   "metadata": {},
   "outputs": [
    {
     "name": "stdout",
     "output_type": "stream",
     "text": [
      "%% Machine Learning Online Class - Exercise 3 | Part 1: One-vs-all\n",
      "\n",
      "%  Instructions\n",
      "%  ------------\n",
      "%\n",
      "%  This file contains code that helps you get started on the\n",
      "%  linear exercise. You will need to complete the following functions\n",
      "%  in this exericse:\n",
      "%\n",
      "%     lrCostFunction.m (logistic regression cost function)\n",
      "%     oneVsAll.m\n",
      "%     predictOneVsAll.m\n",
      "%     predict.m\n",
      "%\n",
      "%  For this exercise, you will not need to change any code in this file,\n",
      "%  or any other files other than those mentioned above.\n",
      "%\n",
      "\n",
      "%% Initialization\n",
      "clear ; close all; clc\n",
      "\n",
      "%% Setup the parameters you will use for this part of the exercise\n",
      "input_layer_size  = 400;  % 20x20 Input Images of Digits\n",
      "num_labels = 10;          % 10 labels, from 1 to 10\n",
      "                          % (note that we have mapped \"0\" to label 10)\n",
      "\n",
      "%% =========== Part 1: Loading and Visualizing Data =============\n",
      "%  We start the exercise by first loading and visualizing the dataset.\n",
      "%  You will be working with a dataset that contains handwritten digits.\n",
      "%\n",
      "\n",
      "% Load Training Data\n",
      "fprintf('Loading and Visualizing Data ...\\n')\n",
      "\n",
      "load('ex3data1.mat'); % training data stored in arrays X, y\n",
      "m = size(X, 1);\n",
      "\n",
      "% Randomly select 100 data points to display\n",
      "rand_indices = randperm(m);\n",
      "sel = X(rand_indices(1:100), :);\n",
      "\n",
      "displayData(sel);\n",
      "\n",
      "fprintf('Program paused. Press enter to continue.\\n');\n",
      "pause;\n",
      "\n",
      "%% ============ Part 2a: Vectorize Logistic Regression ============\n",
      "%  In this part of the exercise, you will reuse your logistic regression\n",
      "%  code from the last exercise. Your task here is to make sure that your\n",
      "%  regularized logistic regression implementation is vectorized. After\n",
      "%  that, you will implement one-vs-all classification for the handwritten\n",
      "%  digit dataset.\n",
      "%\n",
      "\n",
      "% Test case for lrCostFunction\n",
      "fprintf('\\nTesting lrCostFunction() with regularization');\n",
      "\n",
      "theta_t = [-2; -1; 1; 2];\n",
      "X_t = [ones(5,1) reshape(1:15,5,3)/10];\n",
      "y_t = ([1;0;1;0;1] >= 0.5);\n",
      "lambda_t = 3;\n",
      "[J grad] = lrCostFunction(theta_t, X_t, y_t, lambda_t);\n",
      "\n",
      "fprintf('\\nCost: %f\\n', J);\n",
      "fprintf('Expected cost: 2.534819\\n');\n",
      "fprintf('Gradients:\\n');\n",
      "fprintf(' %f \\n', grad);\n",
      "fprintf('Expected gradients:\\n');\n",
      "fprintf(' 0.146561\\n -0.548558\\n 0.724722\\n 1.398003\\n');\n",
      "\n",
      "fprintf('Program paused. Press enter to continue.\\n');\n",
      "pause;\n",
      "%% ============ Part 2b: One-vs-All Training ============\n",
      "fprintf('\\nTraining One-vs-All Logistic Regression...\\n')\n",
      "\n",
      "lambda = 0.1;\n",
      "[all_theta] = oneVsAll(X, y, num_labels, lambda);\n",
      "\n",
      "fprintf('Program paused. Press enter to continue.\\n');\n",
      "pause;\n",
      "\n",
      "\n",
      "%% ================ Part 3: Predict for One-Vs-All ================\n",
      "\n",
      "pred = predictOneVsAll(all_theta, X);\n",
      "\n",
      "fprintf('\\nTraining Set Accuracy: %f\\n', mean(double(pred == y)) * 100);\n",
      "\n",
      "ans = 0\n"
     ]
    }
   ],
   "source": [
    "system('cat ex3.m')"
   ]
  },
  {
   "cell_type": "code",
   "execution_count": 3,
   "metadata": {},
   "outputs": [
    {
     "name": "stdout",
     "output_type": "stream",
     "text": [
      "Loading and Visualizing Data ...\n",
      "Program paused. Press enter to continue.\n"
     ]
    },
    {
     "name": "stdin",
     "output_type": "stream",
     "text": [
      "Paused, enter any value to continue \n"
     ]
    },
    {
     "name": "stdout",
     "output_type": "stream",
     "text": [
      "\n",
      "Testing lrCostFunction() with regularization\n",
      "Cost: 1.034819\n",
      "\n",
      "Cost: 1.034819\n",
      "\n",
      "Cost: 1.934819\n",
      "Expected cost: 2.534819\n",
      "Gradients:\n",
      " 0.146561 \n",
      " -0.548558 \n",
      " 0.724722 \n",
      " 1.398003 \n",
      "Expected gradients:\n",
      " 0.146561\n",
      " -0.548558\n",
      " 0.724722\n",
      " 1.398003\n",
      "Program paused. Press enter to continue.\n"
     ]
    },
    {
     "name": "stdin",
     "output_type": "stream",
     "text": [
      "Paused, enter any value to continue \n"
     ]
    },
    {
     "name": "stdout",
     "output_type": "stream",
     "text": [
      "\n",
      "Training One-vs-All Logistic Regression...\n",
      "Program paused. Press enter to continue.\n"
     ]
    },
    {
     "name": "stdin",
     "output_type": "stream",
     "text": [
      "Paused, enter any value to continue \n"
     ]
    },
    {
     "name": "stdout",
     "output_type": "stream",
     "text": [
      "\n",
      "Training Set Accuracy: 0.000000\n"
     ]
    },
    {
     "data": {
      "image/png": "[encoded data removed]",
      "text/plain": [
       "<IPython.core.display.Image object>"
      ]
     },
     "metadata": {},
     "output_type": "display_data"
    }
   ],
   "source": [
    "source('ex3.m')"
   ]
  },
  {
   "cell_type": "code",
   "execution_count": 4,
   "metadata": {},
   "outputs": [
    {
     "name": "stdout",
     "output_type": "stream",
     "text": [
      "ans =\n",
      "\n",
      "   1\n",
      "   1\n",
      "   1\n",
      "   1\n",
      "   1\n",
      "   1\n",
      "   1\n",
      "   1\n",
      "   1\n",
      "\n"
     ]
    }
   ],
   "source": [
    "ones(9,1)"
   ]
  },
  {
   "cell_type": "code",
   "execution_count": 4,
   "metadata": {},
   "outputs": [
    {
     "name": "stdout",
     "output_type": "stream",
     "text": [
      "J =  2.5348\n",
      "grad =\n",
      "\n",
      "   0.14656\n",
      "  -0.54856\n",
      "   0.72472\n",
      "   1.39800\n",
      "\n"
     ]
    }
   ],
   "source": [
    "function [J, grad] = lrCostFunction(theta, X, y, lambda)\n",
    "\n",
    "% Initialize some useful values\n",
    "m = length(y); % number of training examples\n",
    "\n",
    "% You need to return the following variables correctly \n",
    "J = 0;\n",
    "grad = zeros(size(theta));\n",
    "\n",
    "temp = theta;\n",
    "h_theta = sigmoid(X * theta);\n",
    "bias_term = (lambda/(2*m))*sum((theta.^2)(2:end));\n",
    "\n",
    "% J = (1/m)*sum(((-y).*log(htheta)) - ((ones(size(y))-y).*log(1-htheta)));\n",
    "J=(1/m)*(-y'*log(h_theta)-(1-y)'*log(1-h_theta))+bias_term;\n",
    "\n",
    "% theta\n",
    "% theta(2:end)\n",
    "\n",
    "\n",
    "bias_grad = (lambda/m)*theta;\n",
    "\n",
    "% bg_size = size(bias_grad)\n",
    "\n",
    "% X\n",
    "% X(2:end, :)\n",
    "% y(2:end)\n",
    "\n",
    "% y(2:end).*X(2:end, :) + bias_grad\n",
    "\n",
    "\n",
    "\n",
    "% grad = (1/m)*sum((h_theta-y).*X)'\n",
    "% same as\n",
    "grad = (1/m)*((h_theta-y)'*X)';\n",
    "\n",
    "\n",
    "grad(2:end) = grad(2:end) + bias_grad(2:end);\n",
    "\n",
    "% grad_2 = size\n",
    "\n",
    "endfunction\n",
    "\n",
    "\n",
    "\n",
    "theta_t = [-2; -1; 1; 2];\n",
    "X_t = [ones(5,1) reshape(1:15,5,3)/10];\n",
    "y_t = ([1;0;1;0;1] >= 0.5);\n",
    "lambda_t = 3;\n",
    "[J grad] = lrCostFunction(theta_t, X_t, y_t, lambda_t);\n",
    "\n",
    "display(J)\n",
    "display(grad)"
   ]
  },
  {
   "cell_type": "code",
   "execution_count": 6,
   "metadata": {},
   "outputs": [
    {
     "name": "stdout",
     "output_type": "stream",
     "text": [
      "bias_term =  0.000060000\n"
     ]
    }
   ],
   "source": [
    "bias_term = (lambda/(2*m))*sum((theta_t.^2)(2:end))"
   ]
  },
  {
   "cell_type": "code",
   "execution_count": 39,
   "metadata": {},
   "outputs": [
    {
     "name": "stdout",
     "output_type": "stream",
     "text": [
      "Loading and Visualizing Data ...\n",
      "Program paused. Press enter to continue.\n"
     ]
    },
    {
     "name": "stdin",
     "output_type": "stream",
     "text": [
      "Paused, enter any value to continue \n"
     ]
    },
    {
     "name": "stdout",
     "output_type": "stream",
     "text": [
      "\n",
      "Testing lrCostFunction() with regularization\n",
      "Cost: 2.534819\n",
      "Expected cost: 2.534819\n",
      "Gradients:\n",
      " 0.146561 \n",
      " -0.548558 \n",
      " 0.724722 \n",
      " 1.398003 \n",
      "Expected gradients:\n",
      " 0.146561\n",
      " -0.548558\n",
      " 0.724722\n",
      " 1.398003\n",
      "Program paused. Press enter to continue.\n"
     ]
    },
    {
     "name": "stdin",
     "output_type": "stream",
     "text": [
      "Paused, enter any value to continue \n"
     ]
    },
    {
     "name": "stdout",
     "output_type": "stream",
     "text": [
      "\n",
      "Training One-vs-All Logistic Regression...\n",
      "Iteration    50 | Cost: 1.372016e-02\n",
      "Iteration    50 | Cost: 5.725249e-02\n",
      "Iteration    50 | Cost: 6.350204e-02\n",
      "Iteration    50 | Cost: 3.874318e-02\n",
      "Iteration    50 | Cost: 6.183714e-02\n",
      "Iteration    50 | Cost: 2.153728e-02\n",
      "Iteration    50 | Cost: 3.427326e-02\n",
      "Iteration    50 | Cost: 8.504307e-02\n",
      "Iteration    50 | Cost: 7.990373e-02\n",
      "Iteration    50 | Cost: 1.002263e-02\n",
      "Program paused. Press enter to continue.\n"
     ]
    },
    {
     "name": "stdin",
     "output_type": "stream",
     "text": [
      "Paused, enter any value to continue \n"
     ]
    },
    {
     "name": "stdout",
     "output_type": "stream",
     "text": [
      "\n",
      "Training Set Accuracy: 95.120000\n"
     ]
    },
    {
     "data": {
      "image/png": "[encoded data removed]",
      "text/plain": [
       "<IPython.core.display.Image object>"
      ]
     },
     "metadata": {},
     "output_type": "display_data"
    }
   ],
   "source": [
    "source('ex3.m')"
   ]
  },
  {
   "cell_type": "code",
   "execution_count": 3,
   "metadata": {},
   "outputs": [
    {
     "name": "stdout",
     "output_type": "stream",
     "text": [
      "error: fmincg: operator *: nonconformant arguments (op1 is 1x400, op2 is 401x1)\n",
      "error: called from\n",
      "    fmincg at line 109 column 9\n",
      "    oneVsAll at line 24 column 24\n"
     ]
    }
   ],
   "source": [
    "function [all_theta] = oneVsAll(X, y, num_labels, lambda)    \n",
    "    \n",
    "    % Some useful variables\n",
    "    m = size(X, 1);\n",
    "    n = size(X, 2);\n",
    "\n",
    "    % You need to return the following variables correctly \n",
    "    all_theta = zeros(num_labels, n + 1);\n",
    "\n",
    "    % Add ones to the X data matrix\n",
    "    X = [ones(m, 1) X];\n",
    "        \n",
    "    % Set Initial theta\n",
    "    initial_theta = zeros(n + 1, 1);\n",
    "    \n",
    "    % Set options for fminunc\n",
    "    options = optimset('GradObj', 'on', 'MaxIter', 50);\n",
    "\n",
    "    % Run fmincg to obtain the optimal theta\n",
    "    % This function will return theta and the cost \n",
    "    \n",
    "    for c = 1:num_labels\n",
    "         \n",
    "        all_theta(c,:) = ...\n",
    "        fmincg (@(t)(lrCostFunction(t, X, (y == c), lambda)), ...\n",
    "                initial_theta, options);\n",
    "    end\n",
    "                \n",
    "endfunction\n",
    "\n",
    "\n",
    "input_layer_size  = 400;  % 20x20 Input Images of Digits\n",
    "num_labels = 10;          % 10 labels, from 1 to 10\n",
    "                          % (note that we have mapped \"0\" to label 10)\n",
    "\n",
    "%% =========== Part 1: Loading and Visualizing Data =============\n",
    "%  We start the exercise by first loading and visualizing the dataset.\n",
    "%  You will be working with a dataset that contains handwritten digits.\n",
    "%\n",
    "\n",
    "% Load Training Data\n",
    "% fprintf('Loading and Visualizing Data ...\\n')\n",
    "\n",
    "load('ex3data1.mat'); % training data stored in arrays X, y\n",
    "m = size(X, 1);\n",
    "\n",
    "% Randomly select 100 data points to display\n",
    "rand_indices = randperm(m);\n",
    "sel = X(rand_indices(1:100), :);\n",
    "\n",
    "\n",
    "lambda = 0.1;\n",
    "\n",
    "\n",
    "[all_theta] = oneVsAll(X, y, num_labels, lambda);\n",
    "\n",
    "% display(all_theta)\n"
   ]
  },
  {
   "cell_type": "code",
   "execution_count": 9,
   "metadata": {},
   "outputs": [
    {
     "name": "stdout",
     "output_type": "stream",
     "text": [
      "'max' is a built-in function from the file libinterp/corefcn/max.cc\n",
      "\n",
      " -- max (X)\n",
      " -- max (X, [], DIM)\n",
      " -- [W, IW] = max (X)\n",
      " -- max (X, Y)\n",
      "     Find maximum values in the array X.\n",
      "\n",
      "     For a vector argument, return the maximum value.  For a matrix\n",
      "     argument, return a row vector with the maximum value of each\n",
      "     column.  For a multi-dimensional array, 'max' operates along the\n",
      "     first non-singleton dimension.\n",
      "\n",
      "     If the optional third argument DIM is present then operate along\n",
      "     this dimension.  In this case the second argument is ignored and\n",
      "     should be set to the empty matrix.\n",
      "\n",
      "     For two matrices (or a matrix and a scalar), return the pairwise\n",
      "     maximum.\n",
      "\n",
      "     Thus,\n",
      "\n",
      "          max (max (X))\n",
      "\n",
      "     returns the largest element of the 2-D matrix X, and\n",
      "\n",
      "          max (2:5, pi)\n",
      "              =>  3.1416  3.1416  4.0000  5.0000\n",
      "\n",
      "     compares each element of the range '2:5' with 'pi', and returns a\n",
      "     row vector of the maximum values.\n",
      "\n",
      "     For complex arguments, the magnitude of the elements are used for\n",
      "     comparison.  If the magnitudes are identical, then the results are\n",
      "     ordered by phase angle in the range (-pi, pi].  Hence,\n",
      "\n",
      "          max ([-1 i 1 -i])\n",
      "              => -1\n",
      "\n",
      "     because all entries have magnitude 1, but -1 has the largest phase\n",
      "     angle with value pi.\n",
      "\n",
      "     If called with one input and two output arguments, 'max' also\n",
      "     returns the first index of the maximum value(s).  Thus,\n",
      "\n",
      "          [x, ix] = max ([1, 3, 5, 2, 5])\n",
      "              =>  x = 5\n",
      "                  ix = 3\n",
      "\n",
      "     See also: min, cummax, cummin.\n",
      "\n",
      "Additional help for built-in functions and operators is\n",
      "available in the online version of the manual.  Use the command\n",
      "'doc <topic>' to search the manual index.\n",
      "\n",
      "Help and information about Octave is also available on the WWW\n",
      "at https://www.octave.org and via the help@octave.org\n",
      "mailing list.\n"
     ]
    }
   ],
   "source": [
    "help max"
   ]
  },
  {
   "cell_type": "code",
   "execution_count": 10,
   "metadata": {},
   "outputs": [
    {
     "name": "stdout",
     "output_type": "stream",
     "text": [
      "Variables in the current scope:\n",
      "\n",
      "   Attr Name                  Size                     Bytes  Class\n",
      "   ==== ====                  ====                     =====  ===== \n",
      "        J                     1x1                          8  double\n",
      "        X                  5000x400                 16000000  double\n",
      "        X_t                   5x4                        160  double\n",
      "        all_theta            10x401                    32080  double\n",
      "        ans                   1x1                          8  double\n",
      "        grad                  4x1                         32  double\n",
      "        input_layer_size      1x1                          8  double\n",
      "        lambda                1x1                          8  double\n",
      "        lambda_t              1x1                          8  double\n",
      "        m                     1x1                          8  double\n",
      "        num_labels            1x1                          8  double\n",
      "        pred               5000x1                      40000  double\n",
      "        rand_indices          1x5000                   40000  double\n",
      "        sel                 100x400                   320000  double\n",
      "        theta_t               4x1                         32  double\n",
      "        y                  5000x1                      40000  double\n",
      "        y_t                   5x1                          5  logical\n",
      "\n",
      "Total is 2059050 elements using 16472365 bytes\n",
      "\n"
     ]
    }
   ],
   "source": [
    "whos"
   ]
  },
  {
   "cell_type": "code",
   "execution_count": 37,
   "metadata": {},
   "outputs": [
    {
     "name": "stdout",
     "output_type": "stream",
     "text": [
      "ans =\n",
      "\n",
      "    401   5000\n",
      "\n",
      "ans =\n",
      "\n",
      "   5000     10\n",
      "\n",
      "ans =\n",
      "\n",
      "   5000      1\n",
      "\n",
      "ans =\n",
      "\n",
      "   1\n",
      "   2\n",
      "   2\n",
      "   2\n",
      "   2\n",
      "   2\n",
      "   2\n",
      "   2\n",
      "   2\n",
      "   2\n",
      "   2\n",
      "\n"
     ]
    }
   ],
   "source": [
    "X_initial = [ones(m,1) X];\n",
    "size(X_initial')\n",
    "\n",
    "\n",
    "size(X_initial * all_theta')\n",
    "\n",
    "% Take row max\n",
    "[prob p] = max(X_initial * all_theta', [], 2);\n",
    "\n",
    "size(p)\n",
    "\n",
    "p(1000:1010,:)"
   ]
  },
  {
   "cell_type": "code",
   "execution_count": null,
   "metadata": {},
   "outputs": [
    {
     "name": "stdout",
     "output_type": "stream",
     "text": [
      "Loading and Visualizing Data ...\n",
      "Program paused. Press enter to continue.\n"
     ]
    },
    {
     "name": "stdin",
     "output_type": "stream",
     "text": [
      "Paused, enter any value to continue \n"
     ]
    },
    {
     "name": "stdout",
     "output_type": "stream",
     "text": [
      "\n",
      "Loading Saved Neural Network Parameters ...\n",
      "\n",
      "Training Set Accuracy: 97.520000\n",
      "Program paused. Press enter to continue.\n"
     ]
    },
    {
     "name": "stdin",
     "output_type": "stream",
     "text": [
      "Paused, enter any value to continue \n"
     ]
    },
    {
     "name": "stdout",
     "output_type": "stream",
     "text": [
      "\n",
      "Displaying Example Image\n",
      "\n",
      "Neural Network Prediction: 8 (digit 8)\n"
     ]
    },
    {
     "name": "stdin",
     "output_type": "stream",
     "text": [
      "Paused - press enter to continue, q to exit: \n"
     ]
    },
    {
     "name": "stdout",
     "output_type": "stream",
     "text": [
      "\n",
      "Displaying Example Image\n",
      "\n",
      "Neural Network Prediction: 2 (digit 2)\n"
     ]
    },
    {
     "name": "stdin",
     "output_type": "stream",
     "text": [
      "Paused - press enter to continue, q to exit: \n"
     ]
    },
    {
     "name": "stdout",
     "output_type": "stream",
     "text": [
      "\n",
      "Displaying Example Image\n",
      "\n",
      "Neural Network Prediction: 9 (digit 9)\n"
     ]
    },
    {
     "name": "stdin",
     "output_type": "stream",
     "text": [
      "Paused - press enter to continue, q to exit: \n"
     ]
    },
    {
     "name": "stdout",
     "output_type": "stream",
     "text": [
      "\n",
      "Displaying Example Image\n",
      "\n",
      "Neural Network Prediction: 7 (digit 7)\n"
     ]
    },
    {
     "name": "stdin",
     "output_type": "stream",
     "text": [
      "Paused - press enter to continue, q to exit: \n"
     ]
    },
    {
     "name": "stdout",
     "output_type": "stream",
     "text": [
      "\n",
      "Displaying Example Image\n",
      "\n",
      "Neural Network Prediction: 6 (digit 6)\n"
     ]
    },
    {
     "name": "stdin",
     "output_type": "stream",
     "text": [
      "Paused - press enter to continue, q to exit: \n"
     ]
    },
    {
     "name": "stdout",
     "output_type": "stream",
     "text": [
      "\n",
      "Displaying Example Image\n",
      "\n",
      "Neural Network Prediction: 4 (digit 4)\n"
     ]
    },
    {
     "name": "stdin",
     "output_type": "stream",
     "text": [
      "Paused - press enter to continue, q to exit: \n"
     ]
    },
    {
     "name": "stdout",
     "output_type": "stream",
     "text": [
      "\n",
      "Displaying Example Image\n",
      "\n",
      "Neural Network Prediction: 7 (digit 7)\n"
     ]
    },
    {
     "name": "stdin",
     "output_type": "stream",
     "text": [
      "Paused - press enter to continue, q to exit: \n"
     ]
    },
    {
     "name": "stdout",
     "output_type": "stream",
     "text": [
      "\n",
      "Displaying Example Image\n",
      "\n",
      "Neural Network Prediction: 1 (digit 1)\n"
     ]
    },
    {
     "name": "stdin",
     "output_type": "stream",
     "text": [
      "Paused - press enter to continue, q to exit: \n"
     ]
    },
    {
     "name": "stdout",
     "output_type": "stream",
     "text": [
      "\n",
      "Displaying Example Image\n",
      "\n",
      "Neural Network Prediction: 8 (digit 8)\n"
     ]
    },
    {
     "name": "stdin",
     "output_type": "stream",
     "text": [
      "Paused - press enter to continue, q to exit: \n"
     ]
    },
    {
     "name": "stdout",
     "output_type": "stream",
     "text": [
      "\n",
      "Displaying Example Image\n",
      "\n",
      "Neural Network Prediction: 7 (digit 7)\n"
     ]
    },
    {
     "name": "stdin",
     "output_type": "stream",
     "text": [
      "Paused - press enter to continue, q to exit: \n"
     ]
    },
    {
     "name": "stdout",
     "output_type": "stream",
     "text": [
      "\n",
      "Displaying Example Image\n",
      "\n",
      "Neural Network Prediction: 5 (digit 5)\n"
     ]
    },
    {
     "name": "stdin",
     "output_type": "stream",
     "text": [
      "Paused - press enter to continue, q to exit: \n"
     ]
    },
    {
     "name": "stdout",
     "output_type": "stream",
     "text": [
      "\n",
      "Displaying Example Image\n",
      "\n",
      "Neural Network Prediction: 2 (digit 2)\n"
     ]
    },
    {
     "name": "stdin",
     "output_type": "stream",
     "text": [
      "Paused - press enter to continue, q to exit: \n"
     ]
    },
    {
     "name": "stdout",
     "output_type": "stream",
     "text": [
      "\n",
      "Displaying Example Image\n",
      "\n",
      "Neural Network Prediction: 1 (digit 1)\n"
     ]
    },
    {
     "name": "stdin",
     "output_type": "stream",
     "text": [
      "Paused - press enter to continue, q to exit: \n"
     ]
    },
    {
     "name": "stdout",
     "output_type": "stream",
     "text": [
      "\n",
      "Displaying Example Image\n",
      "\n",
      "Neural Network Prediction: 4 (digit 4)\n"
     ]
    },
    {
     "name": "stdin",
     "output_type": "stream",
     "text": [
      "Paused - press enter to continue, q to exit: \n"
     ]
    },
    {
     "name": "stdout",
     "output_type": "stream",
     "text": [
      "\n",
      "Displaying Example Image\n",
      "\n",
      "Neural Network Prediction: 7 (digit 7)\n"
     ]
    },
    {
     "name": "stdin",
     "output_type": "stream",
     "text": [
      "Paused - press enter to continue, q to exit: \n"
     ]
    },
    {
     "name": "stdout",
     "output_type": "stream",
     "text": [
      "\n",
      "Displaying Example Image\n",
      "\n",
      "Neural Network Prediction: 8 (digit 8)\n"
     ]
    },
    {
     "name": "stdin",
     "output_type": "stream",
     "text": [
      "Paused - press enter to continue, q to exit: \n"
     ]
    },
    {
     "name": "stdout",
     "output_type": "stream",
     "text": [
      "\n",
      "Displaying Example Image\n",
      "\n",
      "Neural Network Prediction: 5 (digit 5)\n"
     ]
    },
    {
     "name": "stdin",
     "output_type": "stream",
     "text": [
      "Paused - press enter to continue, q to exit: \n"
     ]
    },
    {
     "name": "stdout",
     "output_type": "stream",
     "text": [
      "\n",
      "Displaying Example Image\n",
      "\n",
      "Neural Network Prediction: 6 (digit 6)\n"
     ]
    },
    {
     "name": "stdin",
     "output_type": "stream",
     "text": [
      "Paused - press enter to continue, q to exit: \n"
     ]
    },
    {
     "name": "stdout",
     "output_type": "stream",
     "text": [
      "\n",
      "Displaying Example Image\n",
      "\n",
      "Neural Network Prediction: 8 (digit 8)\n"
     ]
    },
    {
     "name": "stdin",
     "output_type": "stream",
     "text": [
      "Paused - press enter to continue, q to exit: \n"
     ]
    },
    {
     "name": "stdout",
     "output_type": "stream",
     "text": [
      "\n",
      "Displaying Example Image\n",
      "\n",
      "Neural Network Prediction: 8 (digit 8)\n"
     ]
    },
    {
     "name": "stdin",
     "output_type": "stream",
     "text": [
      "Paused - press enter to continue, q to exit: \n"
     ]
    },
    {
     "name": "stdout",
     "output_type": "stream",
     "text": [
      "\n",
      "Displaying Example Image\n",
      "\n",
      "Neural Network Prediction: 8 (digit 8)\n"
     ]
    },
    {
     "name": "stdin",
     "output_type": "stream",
     "text": [
      "Paused - press enter to continue, q to exit: \n"
     ]
    },
    {
     "name": "stdout",
     "output_type": "stream",
     "text": [
      "\n",
      "Displaying Example Image\n",
      "\n",
      "Neural Network Prediction: 10 (digit 0)\n"
     ]
    },
    {
     "name": "stdin",
     "output_type": "stream",
     "text": [
      "Paused - press enter to continue, q to exit: \n"
     ]
    },
    {
     "name": "stdout",
     "output_type": "stream",
     "text": [
      "\n",
      "Displaying Example Image\n",
      "\n",
      "Neural Network Prediction: 5 (digit 5)\n"
     ]
    },
    {
     "name": "stdin",
     "output_type": "stream",
     "text": [
      "Paused - press enter to continue, q to exit: \n"
     ]
    },
    {
     "name": "stdout",
     "output_type": "stream",
     "text": [
      "\n",
      "Displaying Example Image\n",
      "\n",
      "Neural Network Prediction: 3 (digit 3)\n"
     ]
    },
    {
     "name": "stdin",
     "output_type": "stream",
     "text": [
      "Paused - press enter to continue, q to exit: \n"
     ]
    },
    {
     "name": "stdout",
     "output_type": "stream",
     "text": [
      "\n",
      "Displaying Example Image\n",
      "\n",
      "Neural Network Prediction: 7 (digit 7)\n"
     ]
    },
    {
     "name": "stdin",
     "output_type": "stream",
     "text": [
      "Paused - press enter to continue, q to exit: \n"
     ]
    },
    {
     "name": "stdout",
     "output_type": "stream",
     "text": [
      "\n",
      "Displaying Example Image\n",
      "\n",
      "Neural Network Prediction: 7 (digit 7)\n"
     ]
    },
    {
     "name": "stdin",
     "output_type": "stream",
     "text": [
      "Paused - press enter to continue, q to exit: \n"
     ]
    },
    {
     "name": "stdout",
     "output_type": "stream",
     "text": [
      "\n",
      "Displaying Example Image\n",
      "\n",
      "Neural Network Prediction: 8 (digit 8)\n"
     ]
    },
    {
     "name": "stdin",
     "output_type": "stream",
     "text": [
      "Paused - press enter to continue, q to exit: \n"
     ]
    },
    {
     "name": "stdout",
     "output_type": "stream",
     "text": [
      "\n",
      "Displaying Example Image\n",
      "\n",
      "Neural Network Prediction: 3 (digit 3)\n"
     ]
    },
    {
     "name": "stdin",
     "output_type": "stream",
     "text": [
      "Paused - press enter to continue, q to exit: \n"
     ]
    },
    {
     "name": "stdout",
     "output_type": "stream",
     "text": [
      "\n",
      "Displaying Example Image\n",
      "\n",
      "Neural Network Prediction: 9 (digit 9)\n"
     ]
    },
    {
     "name": "stdin",
     "output_type": "stream",
     "text": [
      "Paused - press enter to continue, q to exit: \n"
     ]
    },
    {
     "name": "stdout",
     "output_type": "stream",
     "text": [
      "\n",
      "Displaying Example Image\n",
      "\n",
      "Neural Network Prediction: 8 (digit 8)\n"
     ]
    },
    {
     "name": "stdin",
     "output_type": "stream",
     "text": [
      "Paused - press enter to continue, q to exit: \n"
     ]
    },
    {
     "name": "stdout",
     "output_type": "stream",
     "text": [
      "\n",
      "Displaying Example Image\n",
      "\n",
      "Neural Network Prediction: 10 (digit 0)\n"
     ]
    },
    {
     "name": "stdin",
     "output_type": "stream",
     "text": [
      "Paused - press enter to continue, q to exit: \n"
     ]
    },
    {
     "name": "stdout",
     "output_type": "stream",
     "text": [
      "\n",
      "Displaying Example Image\n",
      "\n",
      "Neural Network Prediction: 2 (digit 2)\n"
     ]
    },
    {
     "name": "stdin",
     "output_type": "stream",
     "text": [
      "Paused - press enter to continue, q to exit: \n"
     ]
    },
    {
     "name": "stdout",
     "output_type": "stream",
     "text": [
      "\n",
      "Displaying Example Image\n",
      "\n",
      "Neural Network Prediction: 9 (digit 9)\n"
     ]
    },
    {
     "name": "stdin",
     "output_type": "stream",
     "text": [
      "Paused - press enter to continue, q to exit: \n"
     ]
    },
    {
     "name": "stdout",
     "output_type": "stream",
     "text": [
      "\n",
      "Displaying Example Image\n",
      "\n",
      "Neural Network Prediction: 9 (digit 9)\n"
     ]
    },
    {
     "name": "stdin",
     "output_type": "stream",
     "text": [
      "Paused - press enter to continue, q to exit: \n"
     ]
    },
    {
     "name": "stdout",
     "output_type": "stream",
     "text": [
      "\n",
      "Displaying Example Image\n",
      "\n",
      "Neural Network Prediction: 6 (digit 6)\n"
     ]
    },
    {
     "name": "stdin",
     "output_type": "stream",
     "text": [
      "Paused - press enter to continue, q to exit: \n"
     ]
    },
    {
     "name": "stdout",
     "output_type": "stream",
     "text": [
      "\n",
      "Displaying Example Image\n",
      "\n",
      "Neural Network Prediction: 10 (digit 0)\n"
     ]
    }
   ],
   "source": [
    "ex3_nn\n"
   ]
  },
  {
   "cell_type": "code",
   "execution_count": 1,
   "metadata": {},
   "outputs": [
    {
     "name": "stdout",
     "output_type": "stream",
     "text": [
      "Loading and Visualizing Data ...\n",
      "Program paused. Press enter to continue.\n"
     ]
    },
    {
     "name": "stdin",
     "output_type": "stream",
     "text": [
      "Paused, enter any value to continue \n"
     ]
    },
    {
     "name": "stdout",
     "output_type": "stream",
     "text": [
      "\n",
      "Testing lrCostFunction() with regularization\n",
      "Cost: 1.034819\n",
      "\n",
      "Cost: 1.034819\n",
      "\n",
      "Cost: 1.934819\n",
      "Expected cost: 2.534819\n",
      "Gradients:\n",
      " 0.146561 \n",
      " -0.548558 \n",
      " 0.724722 \n",
      " 1.398003 \n",
      "Expected gradients:\n",
      " 0.146561\n",
      " -0.548558\n",
      " 0.724722\n",
      " 1.398003\n",
      "Program paused. Press enter to continue.\n"
     ]
    },
    {
     "name": "stdin",
     "output_type": "stream",
     "text": [
      "Paused, enter any value to continue \n"
     ]
    },
    {
     "name": "stdout",
     "output_type": "stream",
     "text": [
      "\n",
      "Training One-vs-All Logistic Regression...\n",
      "error: fmincg: operator *: nonconformant arguments (op1 is 1x400, op2 is 401x1)\n",
      "error: called from\n",
      "    fmincg at line 109 column 9\n",
      "    oneVsAll at line 31 column 24\n",
      "    ex3 at line 77 column 12\n"
     ]
    },
    {
     "data": {
      "image/png": "[encoded data removed]",
      "text/plain": [
       "<IPython.core.display.Image object>"
      ]
     },
     "metadata": {},
     "output_type": "display_data"
    }
   ],
   "source": [
    "source('ex3.m')"
   ]
  },
  {
   "cell_type": "code",
   "execution_count": 14,
   "metadata": {},
   "outputs": [
    {
     "name": "stdout",
     "output_type": "stream",
     "text": [
      "Theta1 =\n",
      "\n",
      "   1   1   1\n",
      "   1   1   1\n",
      "   1   1   1\n",
      "   1   1   1\n",
      "   1   1   1\n",
      "\n",
      "Theta2 =\n",
      "\n",
      "   2   2   2   2   2   2\n",
      "   2   2   2   2   2   2\n",
      "   2   2   2   2   2   2\n",
      "   2   2   2   2   2   2\n",
      "\n",
      "Theta2 =\n",
      "\n",
      "   2   2   2   2   2   2\n",
      "   2   2   2   2   2   2\n",
      "   2   2   2   2   2   2\n",
      "   2   2   2   2   2   2\n",
      "\n"
     ]
    }
   ],
   "source": [
    "% Unrolling matrices into a single vector\n",
    "Theta1 = ones(5,3) * 1\n",
    "Theta2 = ones(4,6) * 2\n",
    "\n",
    "ThetaAll = [Theta1(:); Theta2(:)];\n",
    "\n",
    "Theta2 = reshape(ThetaAll(16:39), 4,6)"
   ]
  },
  {
   "cell_type": "code",
   "execution_count": 22,
   "metadata": {},
   "outputs": [
    {
     "name": "stdout",
     "output_type": "stream",
     "text": [
      "J =  5.0909\n",
      "J =  4.9109\n",
      "ApproxGrad =  9.0003\n"
     ]
    }
   ],
   "source": [
    "function J = CostFunc(theta)\n",
    "\n",
    "    J = 3*(theta^3) + 2\n",
    "\n",
    "endfunction\n",
    "\n",
    "function grad = ApproxGradient(theta, epsilon)\n",
    "\n",
    "    grad = (CostFunc(theta+epsilon)-CostFunc(theta-epsilon))/(2*epsilon);\n",
    "    \n",
    "endfunction\n",
    "\n",
    "ApproxGrad = ApproxGradient(1, 0.01)\n"
   ]
  },
  {
   "cell_type": "code",
   "execution_count": 26,
   "metadata": {},
   "outputs": [
    {
     "name": "stdout",
     "output_type": "stream",
     "text": [
      "z =  2\n",
      "g =  0.88080\n",
      "g =  0.88080\n",
      "g =  0.88080\n"
     ]
    }
   ],
   "source": [
    "z = 2\n",
    "\n",
    "g = 1/(1+e^(-z))\n",
    "\n",
    "g = (1+e^(-z))^(-1)\n",
    "\n",
    "g = (1+exp(-z))^(-1)"
   ]
  },
  {
   "cell_type": "code",
   "execution_count": null,
   "metadata": {},
   "outputs": [],
   "source": []
  },
  {
   "cell_type": "code",
   "execution_count": null,
   "metadata": {},
   "outputs": [],
   "source": []
  }
 ],
 "metadata": {
  "kernelspec": {
   "display_name": "Octave",
   "language": "octave",
   "name": "octave"
  },
  "language_info": {
   "file_extension": ".m",
   "help_links": [
    {
     "text": "GNU Octave",
     "url": "https://www.gnu.org/software/octave/support.html"
    },
    {
     "text": "Octave Kernel",
     "url": "https://github.com/Calysto/octave_kernel"
    },
    {
     "text": "MetaKernel Magics",
     "url": "https://github.com/calysto/metakernel/blob/master/metakernel/magics/README.md"
    }
   ],
   "mimetype": "text/x-octave",
   "name": "octave",
   "version": "4.4.1"
  }
 },
 "nbformat": 4,
 "nbformat_minor": 2
}
