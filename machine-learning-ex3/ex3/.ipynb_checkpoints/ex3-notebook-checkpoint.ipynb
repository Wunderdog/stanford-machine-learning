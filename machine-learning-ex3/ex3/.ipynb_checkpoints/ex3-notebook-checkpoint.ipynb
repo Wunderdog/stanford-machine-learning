{
 "cells": [
  {
   "cell_type": "markdown",
   "metadata": {},
   "source": [
    "# Programming Exercise 3:\n",
    "## Multi-class Classification & Neural Networks"
   ]
  },
  {
   "cell_type": "code",
   "execution_count": 5,
   "metadata": {},
   "outputs": [
    {
     "name": "stdout",
     "output_type": "stream",
     "text": [
      "ans = /Users/Evan/Documents/Fall_2018/Machine Learning - Coursera - Stanford/Week 4/Assignment 3/machine-learning-ex3/ex3\n",
      "Untitled.ipynb\t\tex3weights.mat\t\tpredict.m\n",
      "displayData.m\t\tfmincg.m\t\tpredictOneVsAll.m\n",
      "ex3.m\t\t\tlib\t\t\tsigmoid.m\n",
      "ex3_nn.m\t\tlrCostFunction.m\tsubmit.m\n",
      "ex3data1.mat\t\toneVsAll.m\n"
     ]
    }
   ],
   "source": [
    "pwd\n",
    "ls"
   ]
  },
  {
   "cell_type": "markdown",
   "metadata": {},
   "source": [
    "## Part 1: One vs All"
   ]
  },
  {
   "cell_type": "code",
   "execution_count": 10,
   "metadata": {},
   "outputs": [
    {
     "name": "stdout",
     "output_type": "stream",
     "text": [
      "%% Machine Learning Online Class - Exercise 3 | Part 1: One-vs-all\n",
      "\n",
      "%  Instructions\n",
      "%  ------------\n",
      "%\n",
      "%  This file contains code that helps you get started on the\n",
      "%  linear exercise. You will need to complete the following functions\n",
      "%  in this exericse:\n",
      "%\n",
      "%     lrCostFunction.m (logistic regression cost function)\n",
      "%     oneVsAll.m\n",
      "%     predictOneVsAll.m\n",
      "%     predict.m\n",
      "%\n",
      "%  For this exercise, you will not need to change any code in this file,\n",
      "%  or any other files other than those mentioned above.\n",
      "%\n",
      "\n",
      "%% Initialization\n",
      "clear ; close all; clc\n",
      "\n",
      "%% Setup the parameters you will use for this part of the exercise\n",
      "input_layer_size  = 400;  % 20x20 Input Images of Digits\n",
      "num_labels = 10;          % 10 labels, from 1 to 10\n",
      "                          % (note that we have mapped \"0\" to label 10)\n",
      "\n",
      "%% =========== Part 1: Loading and Visualizing Data =============\n",
      "%  We start the exercise by first loading and visualizing the dataset.\n",
      "%  You will be working with a dataset that contains handwritten digits.\n",
      "%\n",
      "\n",
      "% Load Training Data\n",
      "fprintf('Loading and Visualizing Data ...\\n')\n",
      "\n",
      "load('ex3data1.mat'); % training data stored in arrays X, y\n",
      "m = size(X, 1);\n",
      "\n",
      "% Randomly select 100 data points to display\n",
      "rand_indices = randperm(m);\n",
      "sel = X(rand_indices(1:100), :);\n",
      "\n",
      "displayData(sel);\n",
      "\n",
      "fprintf('Program paused. Press enter to continue.\\n');\n",
      "pause;\n",
      "\n",
      "%% ============ Part 2a: Vectorize Logistic Regression ============\n",
      "%  In this part of the exercise, you will reuse your logistic regression\n",
      "%  code from the last exercise. You task here is to make sure that your\n",
      "%  regularized logistic regression implementation is vectorized. After\n",
      "%  that, you will implement one-vs-all classification for the handwritten\n",
      "%  digit dataset.\n",
      "%\n",
      "\n",
      "% Test case for lrCostFunction\n",
      "fprintf('\\nTesting lrCostFunction() with regularization');\n",
      "\n",
      "theta_t = [-2; -1; 1; 2];\n",
      "X_t = [ones(5,1) reshape(1:15,5,3)/10];\n",
      "y_t = ([1;0;1;0;1] >= 0.5);\n",
      "lambda_t = 3;\n",
      "[J grad] = lrCostFunction(theta_t, X_t, y_t, lambda_t);\n",
      "\n",
      "fprintf('\\nCost: %f\\n', J);\n",
      "fprintf('Expected cost: 2.534819\\n');\n",
      "fprintf('Gradients:\\n');\n",
      "fprintf(' %f \\n', grad);\n",
      "fprintf('Expected gradients:\\n');\n",
      "fprintf(' 0.146561\\n -0.548558\\n 0.724722\\n 1.398003\\n');\n",
      "\n",
      "fprintf('Program paused. Press enter to continue.\\n');\n",
      "pause;\n",
      "%% ============ Part 2b: One-vs-All Training ============\n",
      "fprintf('\\nTraining One-vs-All Logistic Regression...\\n')\n",
      "\n",
      "lambda = 0.1;\n",
      "[all_theta] = oneVsAll(X, y, num_labels, lambda);\n",
      "\n",
      "fprintf('Program paused. Press enter to continue.\\n');\n",
      "pause;\n",
      "\n",
      "\n",
      "%% ================ Part 3: Predict for One-Vs-All ================\n",
      "\n",
      "pred = predictOneVsAll(all_theta, X);\n",
      "\n",
      "fprintf('\\nTraining Set Accuracy: %f\\n', mean(double(pred == y)) * 100);\n",
      "\n",
      "ans = 0\n"
     ]
    }
   ],
   "source": [
    "system('cat ex3.m')"
   ]
  },
  {
   "cell_type": "code",
   "execution_count": 79,
   "metadata": {},
   "outputs": [
    {
     "name": "stdout",
     "output_type": "stream",
     "text": [
      "Loading and Visualizing Data ...\n",
      "Program paused. Press enter to continue.\n"
     ]
    },
    {
     "name": "stdin",
     "output_type": "stream",
     "text": [
      "Paused, enter any value to continue \n"
     ]
    },
    {
     "name": "stdout",
     "output_type": "stream",
     "text": [
      "\n",
      "Testing lrCostFunction() with regularizationtemp =\n",
      "\n",
      "  -2\n",
      "  -1\n",
      "   1\n",
      "   2\n",
      "\n",
      "h_theta =\n",
      "\n",
      "   0.66819\n",
      "   0.71095\n",
      "   0.75026\n",
      "   0.78583\n",
      "   0.81757\n",
      "\n",
      "bias_term =  1.8000\n",
      "bias_grad =\n",
      "\n",
      "  -1.20000\n",
      "  -0.60000\n",
      "   0.60000\n",
      "   1.20000\n",
      "\n",
      "grad =\n",
      "\n",
      "   0.146561\n",
      "   0.051442\n",
      "   0.124722\n",
      "   0.198003\n",
      "\n",
      "grad =\n",
      "\n",
      "   0.14656\n",
      "  -0.54856\n",
      "   0.72472\n",
      "   1.39800\n",
      "\n",
      "\n",
      "Cost: 2.534819\n",
      "Expected cost: 2.534819\n",
      "Gradients:\n",
      " 0.146561 \n",
      " -0.548558 \n",
      " 0.724722 \n",
      " 1.398003 \n",
      "Expected gradients:\n",
      " 0.146561\n",
      " -0.548558\n",
      " 0.724722\n",
      " 1.398003\n",
      "Program paused. Press enter to continue.\n"
     ]
    },
    {
     "name": "stdin",
     "output_type": "stream",
     "text": [
      "Paused, enter any value to continue \n"
     ]
    },
    {
     "name": "stdout",
     "output_type": "stream",
     "text": [
      "\n",
      "Training One-vs-All Logistic Regression...\n",
      "Program paused. Press enter to continue.\n"
     ]
    },
    {
     "name": "stdin",
     "output_type": "stream",
     "text": [
      "Paused, enter any value to continue \n"
     ]
    },
    {
     "name": "stdout",
     "output_type": "stream",
     "text": [
      "\n",
      "Training Set Accuracy: 0.000000\n"
     ]
    },
    {
     "data": {
      "image/png": "[encoded data removed]",
      "text/plain": [
       "<IPython.core.display.Image object>"
      ]
     },
     "metadata": {},
     "output_type": "display_data"
    }
   ],
   "source": [
    "source('ex3.m')"
   ]
  },
  {
   "cell_type": "code",
   "execution_count": 19,
   "metadata": {},
   "outputs": [
    {
     "name": "stdout",
     "output_type": "stream",
     "text": [
      "ans =\n",
      "\n",
      "   1\n",
      "   1\n",
      "   1\n",
      "   1\n",
      "   1\n",
      "   1\n",
      "   1\n",
      "   1\n",
      "   1\n",
      "\n"
     ]
    }
   ],
   "source": [
    "ones(9,1)"
   ]
  },
  {
   "cell_type": "code",
   "execution_count": 21,
   "metadata": {},
   "outputs": [
    {
     "name": "stdout",
     "output_type": "stream",
     "text": [
      "J =  2.5348\n",
      "grad =\n",
      "\n",
      "   0.14656\n",
      "  -0.54856\n",
      "   0.72472\n",
      "   1.39800\n",
      "\n"
     ]
    }
   ],
   "source": [
    "function [J, grad] = lrCostFunction(theta, X, y, lambda)\n",
    "\n",
    "% Initialize some useful values\n",
    "m = length(y); % number of training examples\n",
    "\n",
    "% You need to return the following variables correctly \n",
    "J = 0;\n",
    "grad = zeros(size(theta));\n",
    "\n",
    "temp = theta;\n",
    "h_theta = sigmoid(X * theta);\n",
    "bias_term = (lambda/(2*m))*sum((theta.^2)(2:end));\n",
    "\n",
    "% J = (1/m)*sum(((-y).*log(htheta)) - ((ones(size(y))-y).*log(1-htheta)));\n",
    "J=(1/m)*(-y'*log(h_theta)-(1-y)'*log(1-h_theta))+bias_term;\n",
    "\n",
    "% theta\n",
    "% theta(2:end)\n",
    "\n",
    "\n",
    "bias_grad = (lambda/m)*theta;\n",
    "\n",
    "% bg_size = size(bias_grad)\n",
    "\n",
    "% X\n",
    "% X(2:end, :)\n",
    "% y(2:end)\n",
    "\n",
    "% y(2:end).*X(2:end, :) + bias_grad\n",
    "\n",
    "\n",
    "\n",
    "% grad = (1/m)*sum((h_theta-y).*X)'\n",
    "% same as\n",
    "grad = (1/m)*((h_theta-y)'*X)';\n",
    "\n",
    "\n",
    "grad(2:end) = grad(2:end) + bias_grad(2:end);\n",
    "\n",
    "% grad_2 = size\n",
    "\n",
    "endfunction\n",
    "\n",
    "\n",
    "\n",
    "theta_t = [-2; -1; 1; 2];\n",
    "X_t = [ones(5,1) reshape(1:15,5,3)/10];\n",
    "y_t = ([1;0;1;0;1] >= 0.5);\n",
    "lambda_t = 3;\n",
    "[J grad] = lrCostFunction(theta_t, X_t, y_t, lambda_t);\n",
    "\n",
    "display(J)\n",
    "display(grad)"
   ]
  },
  {
   "cell_type": "code",
   "execution_count": 38,
   "metadata": {},
   "outputs": [
    {
     "name": "stdout",
     "output_type": "stream",
     "text": [
      "bias_term =  0.000060000\n"
     ]
    }
   ],
   "source": [
    "bias_term = (lambda/(2*m))*sum((theta_t.^2)(2:end))"
   ]
  },
  {
   "cell_type": "code",
   "execution_count": 22,
   "metadata": {},
   "outputs": [
    {
     "name": "stdout",
     "output_type": "stream",
     "text": [
      "Loading and Visualizing Data ...\n",
      "Program paused. Press enter to continue.\n"
     ]
    },
    {
     "name": "stdin",
     "output_type": "stream",
     "text": [
      "Paused, enter any value to continue \n"
     ]
    },
    {
     "name": "stdout",
     "output_type": "stream",
     "text": [
      "\n",
      "Testing lrCostFunction() with regularization\n",
      "Cost: 2.534819\n",
      "Expected cost: 2.534819\n",
      "Gradients:\n",
      " 0.146561 \n",
      " -0.548558 \n",
      " 0.724722 \n",
      " 1.398003 \n",
      "Expected gradients:\n",
      " 0.146561\n",
      " -0.548558\n",
      " 0.724722\n",
      " 1.398003\n",
      "Program paused. Press enter to continue.\n"
     ]
    },
    {
     "name": "stdin",
     "output_type": "stream",
     "text": [
      "Paused, enter any value to continue \n"
     ]
    },
    {
     "name": "stdout",
     "output_type": "stream",
     "text": [
      "\n",
      "Training One-vs-All Logistic Regression...\n",
      "error: lrCostFunction: =: nonconformant arguments (op1 is 4009x1, op2 is 400x4009)\n"
     ]
    },
    {
     "data": {
      "image/png": "[encoded data removed]",
      "text/plain": [
       "<IPython.core.display.Image object>"
      ]
     },
     "metadata": {},
     "output_type": "display_data"
    }
   ],
   "source": [
    "source('ex3.m')"
   ]
  },
  {
   "cell_type": "code",
   "execution_count": 25,
   "metadata": {},
   "outputs": [
    {
     "name": "stdout",
     "output_type": "stream",
     "text": [
      "Loading and Visualizing Data ...\n",
      "Iteration    50 | Cost: 1.372016e-02\n",
      "Iteration    50 | Cost: 5.725249e-02\n",
      "Iteration    50 | Cost: 6.350204e-02\n",
      "Iteration    50 | Cost: 3.874318e-02\n",
      "Iteration    50 | Cost: 6.183714e-02\n",
      "Iteration    50 | Cost: 2.153728e-02\n",
      "Iteration    50 | Cost: 3.427326e-02\n",
      "Iteration    50 | Cost: 8.504307e-02\n",
      "Iteration    50 | Cost: 7.990373e-02\n",
      "Iteration    50 | Cost: 1.002263e-02\n"
     ]
    }
   ],
   "source": [
    "function [all_theta] = oneVsAll(X, y, num_labels, lambda)    \n",
    "    \n",
    "    % Some useful variables\n",
    "    m = size(X, 1);\n",
    "    n = size(X, 2);\n",
    "\n",
    "    % You need to return the following variables correctly \n",
    "    all_theta = zeros(num_labels, n + 1);\n",
    "\n",
    "    % Add ones to the X data matrix\n",
    "    X = [ones(m, 1) X];\n",
    "        \n",
    "    % Set Initial theta\n",
    "    initial_theta = zeros(n + 1, 1);\n",
    "    \n",
    "    % Set options for fminunc\n",
    "    options = optimset('GradObj', 'on', 'MaxIter', 50);\n",
    "\n",
    "    % Run fmincg to obtain the optimal theta\n",
    "    % This function will return theta and the cost \n",
    "    \n",
    "    for c = 1:num_labels\n",
    "         \n",
    "        all_theta(c,:) = ...\n",
    "        fmincg (@(t)(lrCostFunction(t, X, (y == c), lambda)), ...\n",
    "                initial_theta, options);\n",
    "    end\n",
    "                \n",
    "endfunction\n",
    "\n",
    "\n",
    "input_layer_size  = 400;  % 20x20 Input Images of Digits\n",
    "num_labels = 10;          % 10 labels, from 1 to 10\n",
    "                          % (note that we have mapped \"0\" to label 10)\n",
    "\n",
    "%% =========== Part 1: Loading and Visualizing Data =============\n",
    "%  We start the exercise by first loading and visualizing the dataset.\n",
    "%  You will be working with a dataset that contains handwritten digits.\n",
    "%\n",
    "\n",
    "% Load Training Data\n",
    "% fprintf('Loading and Visualizing Data ...\\n')\n",
    "\n",
    "load('ex3data1.mat'); % training data stored in arrays X, y\n",
    "m = size(X, 1);\n",
    "\n",
    "% Randomly select 100 data points to display\n",
    "rand_indices = randperm(m);\n",
    "sel = X(rand_indices(1:100), :);\n",
    "\n",
    "\n",
    "lambda = 0.1;\n",
    "\n",
    "\n",
    "[all_theta] = oneVsAll(X, y, num_labels, lambda);\n"
   ]
  },
  {
   "cell_type": "code",
   "execution_count": null,
   "metadata": {},
   "outputs": [],
   "source": []
  }
 ],
 "metadata": {
  "kernelspec": {
   "display_name": "Octave",
   "language": "octave",
   "name": "octave"
  },
  "language_info": {
   "file_extension": ".m",
   "help_links": [
    {
     "text": "GNU Octave",
     "url": "https://www.gnu.org/software/octave/support.html"
    },
    {
     "text": "Octave Kernel",
     "url": "https://github.com/Calysto/octave_kernel"
    },
    {
     "text": "MetaKernel Magics",
     "url": "https://github.com/calysto/metakernel/blob/master/metakernel/magics/README.md"
    }
   ],
   "mimetype": "text/x-octave",
   "name": "octave",
   "version": "4.4.1"
  }
 },
 "nbformat": 4,
 "nbformat_minor": 2
}
